{
  "nbformat": 4,
  "nbformat_minor": 0,
  "metadata": {
    "colab": {
      "provenance": []
    },
    "kernelspec": {
      "name": "python3",
      "display_name": "Python 3"
    },
    "language_info": {
      "name": "python"
    }
  },
  "cells": [
    {
      "cell_type": "code",
      "source": [
        "class Person:\n",
        "    def __init__(self, name, age, gender):\n",
        "        self.name = name\n",
        "        self.age = age\n",
        "        self.gender = gender\n",
        "\n",
        "    def introduce(self):\n",
        "        print(f\"Hello, my name is {self.name}. I am {self.age} years old and I am {self.gender}.\")\n",
        "\n",
        "# Create the Person class\n",
        "person1 = Person(\"Nellius\", 23, \"Female\")\n",
        "\n",
        "# Call the introduce method to display the person's information\n",
        "person1.introduce()\n"
      ],
      "metadata": {
        "colab": {
          "base_uri": "https://localhost:8080/"
        },
        "id": "s3wWj-ruaduU",
        "outputId": "b46142f2-6999-4488-a1ba-b9f87b48e97b"
      },
      "execution_count": 2,
      "outputs": [
        {
          "output_type": "stream",
          "name": "stdout",
          "text": [
            "Hello, my name is Nellius. I am 23 years old and I am Female.\n"
          ]
        }
      ]
    }
  ]
}